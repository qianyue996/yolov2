{
 "cells": [
  {
   "cell_type": "code",
   "execution_count": null,
   "metadata": {},
   "outputs": [],
   "source": [
    "from torchvision.datasets import VOCDetection\n",
    "from torch.utils.data import Dataset\n",
    "import torch\n",
    "from torch.utils.data.dataloader import DataLoader\n",
    "from torchvision.transforms import ToTensor\n",
    "from tqdm import tqdm\n",
    "import numpy as np\n",
    "import cv2 as cv\n",
    "\n",
    "from dataset import YoloVOCDataset"
   ]
  },
  {
   "cell_type": "code",
   "execution_count": null,
   "metadata": {},
   "outputs": [],
   "source": [
    "IMG_SIZE=416\n",
    "\n",
    "voc_ds=VOCDetection(root='data',year='2012',image_set='train',download=False)\n",
    "classdict=set()\n",
    "anchor_boxex=[]\n",
    "for _,label in tqdm(voc_ds, desc=\"数据集处理中\"):\n",
    "    for obj in label['annotation']['object']:\n",
    "        classdict.add(obj['name'])\n",
    "        xmin,ymin=int(obj['bndbox']['xmin']),int(obj['bndbox']['ymin'])\n",
    "        xmax,ymax=int(obj['bndbox']['xmax']),int(obj['bndbox']['ymax'])\n",
    "        w=xmax-xmin\n",
    "        h=ymax-ymin\n",
    "        anchor_boxex.append([w,h])\n",
    "names=sorted(list(classdict))\n",
    "id2name={i:c for i,c in enumerate(names)}\n",
    "name2id={c:i for i,c in id2name.items()}"
   ]
  },
  {
   "cell_type": "code",
   "execution_count": 266,
   "metadata": {},
   "outputs": [],
   "source": [
    "out=torch.randn((9,13,13,125))\n",
    "\n",
    "# 假设参数\n",
    "B = out.shape[0]    # batch size\n",
    "S = 13          # 网格尺寸\n",
    "A = 5  # anchors 数量\n",
    "C = 20          # 类别数\n",
    "anchors_tensor=torch.as_tensor([[1,1],[2,2],[3,3],[4,4],[5,5]])"
   ]
  },
  {
   "cell_type": "code",
   "execution_count": 256,
   "metadata": {},
   "outputs": [],
   "source": [
    "# 将 out reshape 为 (B, S, S, A, 5+C)\n",
    "out = out.view(B, S, S, A, 5 + C)"
   ]
  },
  {
   "cell_type": "code",
   "execution_count": 257,
   "metadata": {},
   "outputs": [
    {
     "data": {
      "text/plain": [
       "torch.Size([2, 13, 13, 5, 25])"
      ]
     },
     "execution_count": 257,
     "metadata": {},
     "output_type": "execute_result"
    }
   ],
   "source": [
    "out.shape"
   ]
  },
  {
   "cell_type": "code",
   "execution_count": null,
   "metadata": {},
   "outputs": [],
   "source": [
    "pred = out[..., :5]"
   ]
  },
  {
   "cell_type": "code",
   "execution_count": null,
   "metadata": {},
   "outputs": [],
   "source": [
    "pred.shape"
   ]
  },
  {
   "cell_type": "code",
   "execution_count": null,
   "metadata": {},
   "outputs": [],
   "source": [
    "grid_x = torch.arange(S, device=out.device).view(1, S, 1, 1)  # 对应 row（Y）\n",
    "grid_y = torch.arange(S, device=out.device).view(1, 1, S, 1)  # 对应 col（X）"
   ]
  },
  {
   "cell_type": "code",
   "execution_count": null,
   "metadata": {},
   "outputs": [],
   "source": [
    "grid_x.shape,grid_y.shape"
   ]
  },
  {
   "cell_type": "code",
   "execution_count": 252,
   "metadata": {},
   "outputs": [],
   "source": [
    "x = torch.sigmoid(pred[..., 0]) + grid_x\n",
    "y = torch.sigmoid(pred[..., 1]) + grid_y\n",
    "\n",
    "anchor_w = anchors_tensor[:, 0].view(1, 1, 1, A)  # shape: (1,1,1,A)\n",
    "anchor_h = anchors_tensor[:, 1].view(1, 1, 1, A)  # shape: (1,1,1,A)\n",
    "w = torch.exp(pred[..., 2]) * anchor_w\n",
    "h = torch.exp(pred[..., 3]) * anchor_h\n",
    "\n",
    "c = torch.sigmoid(pred[..., 4])\n",
    "\n",
    "# 将变换后的5个数合并回去，得到 shape (B, S, S, A, 5)\n",
    "transformed = torch.stack([x, y, w, h, c], dim=-1)"
   ]
  },
  {
   "cell_type": "code",
   "execution_count": 258,
   "metadata": {},
   "outputs": [],
   "source": [
    "out[..., :5] = transformed"
   ]
  },
  {
   "cell_type": "code",
   "execution_count": 262,
   "metadata": {},
   "outputs": [],
   "source": [
    "out = out.view(B, S, S, A * (5 + C))"
   ]
  },
  {
   "cell_type": "code",
   "execution_count": 267,
   "metadata": {},
   "outputs": [
    {
     "data": {
      "text/plain": [
       "9"
      ]
     },
     "execution_count": 267,
     "metadata": {},
     "output_type": "execute_result"
    }
   ],
   "source": [
    "len(out)"
   ]
  },
  {
   "cell_type": "code",
   "execution_count": null,
   "metadata": {},
   "outputs": [],
   "source": []
  }
 ],
 "metadata": {
  "kernelspec": {
   "display_name": "yolov2",
   "language": "python",
   "name": "python3"
  },
  "language_info": {
   "codemirror_mode": {
    "name": "ipython",
    "version": 3
   },
   "file_extension": ".py",
   "mimetype": "text/x-python",
   "name": "python",
   "nbconvert_exporter": "python",
   "pygments_lexer": "ipython3",
   "version": "3.10.16"
  }
 },
 "nbformat": 4,
 "nbformat_minor": 2
}
